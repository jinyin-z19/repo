{
 "cells": [
  {
   "cell_type": "code",
   "execution_count": 2,
   "metadata": {},
   "outputs": [
    {
     "name": "stdout",
     "output_type": "stream",
     "text": [
      "tf.Tensor([[0.52295434 0.3842236 ]], shape=(1, 2), dtype=float32)\n"
     ]
    }
   ],
   "source": [
    "import tensorflow as tf\n",
    "from datetime import datetime\n",
    "##单层的建立\n",
    "\n",
    "\n",
    "## 练习一下矩阵乘法的不同形式。\n",
    "class Dence2(tf.Module):\n",
    "    def __init__(self,in_features,out_features,name=None):\n",
    "        super().__init__(name=name)\n",
    "        self.w=tf.Variable([[-3.14],[-2.31],[2.16]],name='w') ##3行*1列矩阵，name不是必要的\n",
    "        self.b=tf.Variable(tf.zeros([out_features]),name='b')\n",
    "    def __call__(self,x):\n",
    "        y=tf.matmul(x,self.w)+self.b##矩阵乘法\n",
    "        return tf.nn.sigmoid(y)\n",
    "nn=Dence2(tf.constant(3),tf.constant(1),'pp')##内层与外层的个数，名字没有意义\n",
    "\n",
    "nn([[0.0288,-0.3256,0.5925]])##1*3\n",
    "\n",
    "## 两层连接\n",
    "class Dence3(tf.Module):\n",
    "    def __init__(self,in_features,out_features,name=None):\n",
    "        super().__init__(name=name)\n",
    "        self.w=tf.Variable(tf.random.normal([in_features,out_features]),name='w') ##3行*1列矩阵，name不是必要的\n",
    "        self.b=tf.Variable(tf.zeros([out_features]),name='b')\n",
    "    def __call__(self,x):\n",
    "        y=tf.matmul(x,self.w)+self.b##矩阵乘法\n",
    "        return tf.nn.sigmoid(y)\n",
    "\n",
    "class superdence(tf.Module):        ##两层全连接建立\n",
    "    def __init__(self,name=None):\n",
    "        super().__init__(name=name)\n",
    "        ##bulid two dence\n",
    "        self.dence_1=Dence3(tf.constant(3),tf.constant(3))\n",
    "        self.dence_2=Dence3(tf.constant(3),tf.constant(2))\n",
    "    def __call__(self,x):\n",
    "        x=self.dence_1(x)\n",
    "        return self.dence_2(x)\n",
    "    \n",
    "kk=superdence(name='sp')\n",
    "\n",
    "print(kk([[0.0288,-0.3256,0.5925]]))##1*3"
   ]
  },
  {
   "cell_type": "code",
   "execution_count": 9,
   "metadata": {},
   "outputs": [
    {
     "data": {
      "text/plain": [
       "<tf.Tensor: shape=(1, 1), dtype=float32, numpy=array([[0.8745173]], dtype=float32)>"
      ]
     },
     "execution_count": 9,
     "metadata": {},
     "output_type": "execute_result"
    }
   ],
   "source": [
    "#打印\n",
    "\n",
    "class Dence(tf.Module):\n",
    "    def __init__(self,in_features,out_features,name=None):\n",
    "        super().__init__(name=name)\n",
    "        self.w=tf.Variable([[-3.14,-2.31,2.16]],name='w') ##1*3矩阵\n",
    "        self.b=tf.Variable(tf.zeros([out_features]),name='b')\n",
    "    def __call__(self,x):\n",
    "        y=tf.matmul(self.w,x)+self.b\n",
    "        return tf.nn.sigmoid(y)\n",
    "\n",
    "mm=Dence(tf.constant(3),tf.constant(1),'mm')##内层与外层的个数。\n",
    "\n",
    "\n",
    "chkp_path = \"my_checkpoint\"     ## 确定路径与名字，省略默认在文件附近\n",
    "checkpoint = tf.train.Checkpoint(model=mm)  ##决定储存哪一个文件\n",
    "checkpoint.write(chkp_path)  ##将数据写进去\n",
    "mm([[0.0288],[-0.3256],[0.5925]])##3行*1列"
   ]
  },
  {
   "cell_type": "code",
   "execution_count": 8,
   "metadata": {},
   "outputs": [
    {
     "data": {
      "text/plain": [
       "[('_CHECKPOINTABLE_OBJECT_GRAPH', []),\n",
       " ('model/b/.ATTRIBUTES/VARIABLE_VALUE', [1]),\n",
       " ('model/w/.ATTRIBUTES/VARIABLE_VALUE', [1, 3])]"
      ]
     },
     "execution_count": 8,
     "metadata": {},
     "output_type": "execute_result"
    }
   ],
   "source": [
    "tf.train.list_variables(chkp_path) #输出模型大概形象"
   ]
  },
  {
   "cell_type": "code",
   "execution_count": 12,
   "metadata": {},
   "outputs": [
    {
     "data": {
      "text/plain": [
       "<tf.Tensor: shape=(1, 1), dtype=float32, numpy=array([[0.8745173]], dtype=float32)>"
      ]
     },
     "execution_count": 12,
     "metadata": {},
     "output_type": "execute_result"
    }
   ],
   "source": [
    "## 层的恢复\n",
    "new_model = Dence(1,1)##随便赋值\n",
    "new_checkpoint = tf.train.Checkpoint(model=new_model)\n",
    "new_checkpoint.restore(\"my_checkpoint\")\n",
    "new_model([[0.0288],[-0.3256],[0.5925]])"
   ]
  },
  {
   "cell_type": "code",
   "execution_count": 38,
   "metadata": {
    "scrolled": false
   },
   "outputs": [
    {
     "name": "stdout",
     "output_type": "stream",
     "text": [
      "tf.Tensor(0.9370144, shape=(), dtype=float32)\n",
      "tf.Tensor(1.8740288, shape=(), dtype=float32)\n",
      "tf.Tensor(1.3319066, shape=(), dtype=float32)\n"
     ]
    }
   ],
   "source": [
    "#层的输出\n",
    "\n",
    "class smdense(tf.Module):        ##两层全连接建立\n",
    "    def __init__(self,name=None):\n",
    "        super().__init__(name=name)\n",
    "        ##bulid two dence\n",
    "        self.dence_1=Dence3(tf.constant(3),tf.constant(3))\n",
    "        self.dence_2=Dence3(tf.constant(3),tf.constant(2))\n",
    "    @tf.function\n",
    "    def __call__(self,x):\n",
    "        x=self.dence_1(x)\n",
    "        return tf.reduce_sum(self.dence_2(x))\n",
    "my_model = smdense(name=\"the_model\")\n",
    "print(my_model([[2.0, 2.0, 2.0]]))\n",
    "print(my_model([[[2.0, 2.0, 2.0], [2.0, 2.0, 2.0]]]))\n",
    "\n",
    "# Set up logging.\n",
    "stamp = datetime.now().strftime(\"%Y%m%d-%H%M%S\")\n",
    "logdir = \"logs/func/%s\" % stamp\n",
    "writer = tf.summary.create_file_writer(logdir)\n",
    "\n",
    "# Create a new model to get a fresh trace\n",
    "# Otherwise the summary will not see the graph.\n",
    "new_model = smdense()\n",
    "\n",
    "# Bracket the function call with\n",
    "# tf.summary.trace_on() and tf.summary.trace_export().\n",
    "tf.summary.trace_on(graph=True, profiler=True)\n",
    "# Call only one tf.function when tracing.\n",
    "z = print(new_model(tf.constant([[2.0, 2.0, 2.0]])))\n",
    "with writer.as_default():\n",
    "    tf.summary.trace_export(\n",
    "      name=\"my_func_trace\",\n",
    "      step=0,\n",
    "      profiler_outdir=logdir)"
   ]
  },
  {
   "cell_type": "code",
   "execution_count": 20,
   "metadata": {
    "scrolled": true
   },
   "outputs": [
    {
     "data": {
      "text/plain": [
       "Reusing TensorBoard on port 6006 (pid 11536), started 0:00:52 ago. (Use '!kill 11536' to kill it.)"
      ]
     },
     "metadata": {},
     "output_type": "display_data"
    },
    {
     "data": {
      "text/html": [
       "\n",
       "      <iframe id=\"tensorboard-frame-7c2691bed3880f6b\" width=\"100%\" height=\"800\" frameborder=\"0\">\n",
       "      </iframe>\n",
       "      <script>\n",
       "        (function() {\n",
       "          const frame = document.getElementById(\"tensorboard-frame-7c2691bed3880f6b\");\n",
       "          const url = new URL(\"/\", window.location);\n",
       "          const port = 6006;\n",
       "          if (port) {\n",
       "            url.port = port;\n",
       "          }\n",
       "          frame.src = url;\n",
       "        })();\n",
       "      </script>\n",
       "    "
      ],
      "text/plain": [
       "<IPython.core.display.HTML object>"
      ]
     },
     "metadata": {},
     "output_type": "display_data"
    }
   ],
   "source": [
    "%tensorboard --logdir logs/func#将图输出出来"
   ]
  },
  {
   "cell_type": "code",
   "execution_count": 42,
   "metadata": {},
   "outputs": [
    {
     "name": "stdout",
     "output_type": "stream",
     "text": [
      "INFO:tensorflow:Assets written to: bdmi_model\\assets\n"
     ]
    }
   ],
   "source": [
    "tf.saved_model.save(my_model, \"bdmi_model\")  ##保存目录"
   ]
  },
  {
   "cell_type": "code",
   "execution_count": 43,
   "metadata": {},
   "outputs": [],
   "source": [
    "new_model = tf.saved_model.load(\"bdmi_model\")##读取整个模型"
   ]
  },
  {
   "cell_type": "code",
   "execution_count": 44,
   "metadata": {},
   "outputs": [
    {
     "name": "stdout",
     "output_type": "stream",
     "text": [
      "tf.Tensor(0.96850383, shape=(), dtype=float32)\n"
     ]
    }
   ],
   "source": [
    "print(my_model([[3.0, 3.0, 3.0]]))#直接可以使用my_model\n"
   ]
  },
  {
   "cell_type": "code",
   "execution_count": 49,
   "metadata": {},
   "outputs": [
    {
     "data": {
      "image/png": "[encoded data removed]",
      "text/plain": [
       "<Figure size 432x288 with 1 Axes>"
      ]
     },
     "metadata": {
      "needs_background": "light"
     },
     "output_type": "display_data"
    },
    {
     "name": "stdout",
     "output_type": "stream",
     "text": [
      "Variables: (<tf.Variable 'Variable:0' shape=() dtype=float32, numpy=0.0>, <tf.Variable 'Variable:0' shape=() dtype=float32, numpy=5.0>)\n"
     ]
    },
    {
     "data": {
      "image/png": "[encoded data removed]",
      "text/plain": [
       "<Figure size 432x288 with 1 Axes>"
      ]
     },
     "metadata": {
      "needs_background": "light"
     },
     "output_type": "display_data"
    },
    {
     "name": "stdout",
     "output_type": "stream",
     "text": [
      "Current loss: 8.931422\n",
      "Starting: W=5.00 b=0.00, loss=8.93142\n",
      "Epoch  0: W=4.59 b=0.39, loss=6.04000\n",
      "Epoch  1: W=4.26 b=0.71, loss=4.20850\n",
      "Epoch  2: W=4.01 b=0.96, loss=3.04823\n",
      "Epoch  3: W=3.80 b=1.16, loss=2.31311\n",
      "Epoch  4: W=3.64 b=1.32, loss=1.84729\n",
      "Epoch  5: W=3.52 b=1.45, loss=1.55208\n",
      "Epoch  6: W=3.41 b=1.55, loss=1.36498\n",
      "Epoch  7: W=3.33 b=1.63, loss=1.24637\n",
      "Epoch  8: W=3.27 b=1.70, loss=1.17118\n",
      "Epoch  9: W=3.22 b=1.75, loss=1.12351\n"
     ]
    },
    {
     "data": {
      "image/png": "[encoded data removed]",
      "text/plain": [
       "<Figure size 432x288 with 1 Axes>"
      ]
     },
     "metadata": {
      "needs_background": "light"
     },
     "output_type": "display_data"
    }
   ],
   "source": [
    "# The actual line\n",
    "TRUE_W = 3.0\n",
    "TRUE_B = 2.0\n",
    "\n",
    "NUM_EXAMPLES = 1000\n",
    "\n",
    "# A vector of random x values\n",
    "x = tf.random.normal(shape=[NUM_EXAMPLES])\n",
    "\n",
    "# Generate some noise\n",
    "noise = tf.random.normal(shape=[NUM_EXAMPLES])\n",
    "\n",
    "# Calculate y\n",
    "y = x * TRUE_W + TRUE_B + noise\n",
    "class myModule(tf.Module):\n",
    "    def __init__(self,in_features,out_features,name=None):\n",
    "        super().__init__(name=name)\n",
    "        self.w=tf.Variable(3.0) \n",
    "        self.b=tf.Variable(5.0)\n",
    "    def __call__(self,x):\n",
    "        y=x*self.w+self.b##矩阵乘法\n",
    "        return y\n",
    "nn=Dence2(tf.constant(3),tf.constant(1),'pp')\n",
    "# Plot all the data\n",
    "import matplotlib.pyplot as plt\n",
    "\n",
    "plt.scatter(x, y, c=\"b\")\n",
    "plt.show()\n",
    "class MyModel(tf.Module):\n",
    "  def __init__(self, **kwargs):\n",
    "    super().__init__(**kwargs)\n",
    "    # Initialize the weights to `5.0` and the bias to `0.0`\n",
    "    # In practice, these should be randomly initialized\n",
    "    self.w = tf.Variable(5.0)\n",
    "    self.b = tf.Variable(0.0)\n",
    "\n",
    "  def __call__(self, x):\n",
    "    return self.w * x + self.b\n",
    "\n",
    "model = MyModel()\n",
    "\n",
    "# List the variables tf.modules's built-in variable aggregation.\n",
    "print(\"Variables:\", model.variables)\n",
    "\n",
    "# Verify the model works\n",
    "assert model(3.0).numpy() == 15.0\n",
    "# This computes a single loss value for an entire batch\n",
    "def loss(target_y, predicted_y):\n",
    "  return tf.reduce_mean(tf.square(target_y - predicted_y))\n",
    "plt.scatter(x, y, c=\"b\")\n",
    "plt.scatter(x, model(x), c=\"r\")\n",
    "plt.show()\n",
    "\n",
    "print(\"Current loss: %1.6f\" % loss(model(x), y).numpy())\n",
    "# Given a callable model, inputs, outputs, and a learning rate...\n",
    "def train(model, x, y, learning_rate):\n",
    "\n",
    "  with tf.GradientTape() as t:\n",
    "    # Trainable variables are automatically tracked by GradientTape\n",
    "    current_loss = loss(y, model(x))\n",
    "\n",
    "  # Use GradientTape to calculate the gradients with respect to W and b\n",
    "  dw, db = t.gradient(current_loss, [model.w, model.b])\n",
    "\n",
    "  # Subtract the gradient scaled by the learning rate\n",
    "  model.w.assign_sub(learning_rate * dw)\n",
    "  model.b.assign_sub(learning_rate * db)\n",
    "model = MyModel()\n",
    "\n",
    "# Collect the history of W-values and b-values to plot later\n",
    "Ws, bs = [], []\n",
    "epochs = range(10)\n",
    "\n",
    "# Define a training loop\n",
    "def training_loop(model, x, y):\n",
    "\n",
    "  for epoch in epochs:\n",
    "    # Update the model with the single giant batch\n",
    "    train(model, x, y, learning_rate=0.1)\n",
    "\n",
    "    # Track this before I update\n",
    "    Ws.append(model.w.numpy())\n",
    "    bs.append(model.b.numpy())\n",
    "    current_loss = loss(y, model(x))\n",
    "\n",
    "    print(\"Epoch %2d: W=%1.2f b=%1.2f, loss=%2.5f\" %\n",
    "          (epoch, Ws[-1], bs[-1], current_loss))\n",
    "print(\"Starting: W=%1.2f b=%1.2f, loss=%2.5f\" %\n",
    "      (model.w, model.b, loss(y, model(x))))\n",
    "\n",
    "# Do the training\n",
    "training_loop(model, x, y)\n",
    "\n",
    "# Plot it\n",
    "plt.plot(epochs, Ws, \"r\",\n",
    "         epochs, bs, \"b\")\n",
    "\n",
    "plt.plot([TRUE_W] * len(epochs), \"r--\",\n",
    "         [TRUE_B] * len(epochs), \"b--\")\n",
    "\n",
    "plt.legend([\"W\", \"b\", \"True W\", \"True b\"])\n",
    "plt.show()\n"
   ]
  },
  {
   "cell_type": "code",
   "execution_count": null,
   "metadata": {},
   "outputs": [],
   "source": []
  }
 ],
 "metadata": {
  "kernelspec": {
   "display_name": "Python 3",
   "language": "python",
   "name": "python3"
  },
  "language_info": {
   "codemirror_mode": {
    "name": "ipython",
    "version": 3
   },
   "file_extension": ".py",
   "mimetype": "text/x-python",
   "name": "python",
   "nbconvert_exporter": "python",
   "pygments_lexer": "ipython3",
   "version": "3.8.6rc1"
  }
 },
 "nbformat": 4,
 "nbformat_minor": 4
}
