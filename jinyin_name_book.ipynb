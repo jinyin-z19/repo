{
 "cells": [
  {
   "cell_type": "code",
   "execution_count": 2,
   "metadata": {},
   "outputs": [],
   "source": [
    "import os\n",
    "\n",
    "current_file=os.path.realpath('jinyin_name_book.ipynb')\n",
    "current_dir=os.path.dirname(current_file)\n",
    "data_dir=os.path.join(os.path.dirname(current_file),'data')\n",
    "\n",
    "new_path=os.path.join(data_dir,'name_book.txt')\n",
    "\n",
    "with open(new_path,'w')as my_file:\n",
    "    my_file.write('周金印 机械系\\n杨冉 机械系\\n袁昊 机械系\\n')\n",
    "    \n",
    "with open(new_path,'a')as my_file:\n",
    "    my_file.write('王之昂 机械系\\n在线上WuWuWu')"
   ]
  },
  {
   "cell_type": "code",
   "execution_count": null,
   "metadata": {},
   "outputs": [],
   "source": []
  }
 ],
 "metadata": {
  "kernelspec": {
   "display_name": "Python 3",
   "language": "python",
   "name": "python3"
  },
  "language_info": {
   "codemirror_mode": {
    "name": "ipython",
    "version": 3
   },
   "file_extension": ".py",
   "mimetype": "text/x-python",
   "name": "python",
   "nbconvert_exporter": "python",
   "pygments_lexer": "ipython3",
   "version": "3.8.6rc1"
  }
 },
 "nbformat": 4,
 "nbformat_minor": 4
}
