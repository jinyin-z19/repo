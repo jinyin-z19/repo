{
 "cells": [
  {
   "cell_type": "code",
   "execution_count": 2,
   "metadata": {},
   "outputs": [
    {
     "name": "stdout",
     "output_type": "stream",
     "text": [
      "[1, 2, 3, 5, 7, 9, 11, 12, 13, 15, 16, 17, 18, 19, 20, 22]\n"
     ]
    }
   ],
   "source": [
    "a=[2,5,9,12,16,18]\n",
    "b=[1,3,7,11,13,15,17,19,20,22]\n",
    "    \n",
    "def my_merge(a,b):\n",
    "        na=len(a)\n",
    "        nb=len(b)\n",
    "        ida=0\n",
    "        idb=0\n",
    "        c=[]\n",
    "        while (ida<na and idb<nb):\n",
    "            if a[ida]<=b[idb]:\n",
    "                c.append(a[ida])\n",
    "                ida+=1\n",
    "            else:\n",
    "                c.append(b[idb])\n",
    "                idb+=1\n",
    "        while (idb<nb):\n",
    "            c.append(b[idb])\n",
    "            idb+=1\n",
    "        while (ida<na):\n",
    "            c.append(a[ida])\n",
    "            ida+=1\n",
    "        return c\n",
    "print(my_merge(a,b))"
   ]
  },
  {
   "cell_type": "code",
   "execution_count": null,
   "metadata": {},
   "outputs": [],
   "source": []
  }
 ],
 "metadata": {
  "kernelspec": {
   "display_name": "Python 3",
   "language": "python",
   "name": "python3"
  },
  "language_info": {
   "codemirror_mode": {
    "name": "ipython",
    "version": 3
   },
   "file_extension": ".py",
   "mimetype": "text/x-python",
   "name": "python",
   "nbconvert_exporter": "python",
   "pygments_lexer": "ipython3",
   "version": "3.8.6rc1"
  }
 },
 "nbformat": 4,
 "nbformat_minor": 2
}
