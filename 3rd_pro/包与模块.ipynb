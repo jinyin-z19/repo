{
 "cells": [
  {
   "cell_type": "code",
   "execution_count": 1,
   "metadata": {},
   "outputs": [
    {
     "name": "stdout",
     "output_type": "stream",
     "text": [
      "杨冉\n",
      "袁昊\n"
     ]
    }
   ],
   "source": [
    "from bdmi.classmates.classmate2 import classmate2\n",
    "from bdmi.classmates.classmate1 import classmate1\n",
    "\n",
    "a=classmate2()\n",
    "b=classmate1()\n",
    "\n",
    "print(a.thename())\n",
    "print(b.thename())"
   ]
  }
 ],
 "metadata": {
  "kernelspec": {
   "display_name": "Python 3",
   "language": "python",
   "name": "python3"
  },
  "language_info": {
   "codemirror_mode": {
    "name": "ipython",
    "version": 3
   },
   "file_extension": ".py",
   "mimetype": "text/x-python",
   "name": "python",
   "nbconvert_exporter": "python",
   "pygments_lexer": "ipython3",
   "version": "3.8.6rc1"
  }
 },
 "nbformat": 4,
 "nbformat_minor": 2
}
