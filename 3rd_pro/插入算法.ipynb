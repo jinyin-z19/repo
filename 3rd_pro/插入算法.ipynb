{
 "cells": [
  {
   "cell_type": "code",
   "execution_count": 41,
   "metadata": {
    "scrolled": true
   },
   "outputs": [
    {
     "name": "stdout",
     "output_type": "stream",
     "text": [
      "[3, 4, 5, 6, 8]\n"
     ]
    }
   ],
   "source": [
    "##插入算法\n",
    "a=[6,4,3,8,5]\n",
    "\n",
    "def insert_sort(a_list):\n",
    "    n = len(a_list)\n",
    "    for i in range(1, n):               \n",
    "        for j in range(i, 0, -1):       \n",
    "            if a_list[j] < a_list[j-1]: \n",
    "                a_list[j], a_list[j-1] = a_list[j-1], a_list[j]\n",
    "            else:\n",
    "                break\n",
    "    return a_list\n",
    "                \n",
    "insert_sort(a)\n",
    "print(insert_sort(a))        "
   ]
  },
  {
   "cell_type": "code",
   "execution_count": null,
   "metadata": {},
   "outputs": [],
   "source": []
  },
  {
   "cell_type": "code",
   "execution_count": null,
   "metadata": {},
   "outputs": [],
   "source": []
  }
 ],
 "metadata": {
  "kernelspec": {
   "display_name": "Python 3",
   "language": "python",
   "name": "python3"
  },
  "language_info": {
   "codemirror_mode": {
    "name": "ipython",
    "version": 3
   },
   "file_extension": ".py",
   "mimetype": "text/x-python",
   "name": "python",
   "nbconvert_exporter": "python",
   "pygments_lexer": "ipython3",
   "version": "3.8.6rc1"
  }
 },
 "nbformat": 4,
 "nbformat_minor": 2
}
