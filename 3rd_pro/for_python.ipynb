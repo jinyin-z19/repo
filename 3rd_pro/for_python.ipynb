{
 "cells": [
  {
   "cell_type": "markdown",
   "metadata": {},
   "source": [
    " # for python"
   ]
  },
  {
   "cell_type": "code",
   "execution_count": 1,
   "metadata": {},
   "outputs": [
    {
     "name": "stdout",
     "output_type": "stream",
     "text": [
      "{'周金印': 19807733522, '杨冉': 1365895751, '袁昊': 1287595223411}\n"
     ]
    }
   ],
   "source": [
    "##电话本\n",
    "mydict = {'周金印': 19807733522, '杨冉': 1365895751, '袁昊': 1287595223411}\n",
    "print(mydict)"
   ]
  },
  {
   "cell_type": "code",
   "execution_count": 2,
   "metadata": {
    "collapsed": true
   },
   "outputs": [
    {
     "name": "stdout",
     "output_type": "stream",
     "text": [
      "[1, 4, 9]\n"
     ]
    }
   ],
   "source": [
    "# 数组平方\n",
    "a=[1,2,3]\n",
    "b=[]\n",
    "for i in a:\n",
    "    b.append(i*i)\n",
    "print(b)"
   ]
  },
  {
   "cell_type": "code",
   "execution_count": 7,
   "metadata": {
    "scrolled": true
   },
   "outputs": [
    {
     "name": "stdout",
     "output_type": "stream",
     "text": [
      "The black cat named titi jumped 3 times!\n"
     ]
    }
   ],
   "source": [
    "#类\n",
    "class cat:\n",
    "    def __init__(self,color,name):\n",
    "        self.name=name\n",
    "        self.color=color\n",
    "    def jump(self,num):\n",
    "        print('The '+self.color+' cat named '+self.name+' jumped '+str(num)+ ' times!')\n",
    "my_cat=cat('black','titi')\n",
    "my_cat.jump(3)\n"
   ]
  },
  {
   "cell_type": "code",
   "execution_count": 9,
   "metadata": {},
   "outputs": [],
   "source": [
    "#IO\n",
    "import os\n",
    "\n",
    "current_file=os.path.realpath('jinyin_name_book.ipynb')\n",
    "current_dir=os.path.dirname(current_file)\n",
    "data_dir=os.path.join(os.path.dirname(current_file),'data')\n",
    "\n",
    "new_path=os.path.join(data_dir,'name_book.txt')\n",
    "\n",
    "with open(new_path,'w')as my_file:\n",
    "    my_file.write('周金印 机械系\\n杨冉 机械系\\n袁昊 机械系\\n')\n",
    "    \n",
    "with open(new_path,'a')as my_file:\n",
    "    my_file.write('王之昂 机械系\\n在线上WuWuWu')"
   ]
  },
  {
   "cell_type": "code",
   "execution_count": 8,
   "metadata": {},
   "outputs": [],
   "source": [
    "#IO\n",
    "import os\n",
    "import random\n",
    "current_file=os.path.realpath('FILEforClass.ipynb')\n",
    "current_dir=os.path.dirname(current_file)\n",
    "data_dir=os.path.join(os.path.dirname(current_file),'data')\n",
    "\n",
    "new_path=os.path.join(data_dir,'data.txt')\n",
    "\n",
    "with open(new_path,'w')as my_file:\n",
    "    for idx in range(20):\n",
    "        my_file.write(str(random.randint(1,100))+' ')"
   ]
  },
  {
   "cell_type": "code",
   "execution_count": null,
   "metadata": {},
   "outputs": [],
   "source": []
  }
 ],
 "metadata": {
  "kernelspec": {
   "display_name": "Python 3",
   "language": "python",
   "name": "python3"
  },
  "language_info": {
   "codemirror_mode": {
    "name": "ipython",
    "version": 3
   },
   "file_extension": ".py",
   "mimetype": "text/x-python",
   "name": "python",
   "nbconvert_exporter": "python",
   "pygments_lexer": "ipython3",
   "version": "3.8.6rc1"
  }
 },
 "nbformat": 4,
 "nbformat_minor": 2
}
