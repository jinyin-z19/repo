{
 "cells": [
  {
   "cell_type": "code",
   "execution_count": 2,
   "metadata": {},
   "outputs": [
    {
     "name": "stdout",
     "output_type": "stream",
     "text": [
      "[-4, 4, 5, 5, 7, 8, 8, 9, 15]\n"
     ]
    }
   ],
   "source": [
    "m=[5,8,7,15,9,4,-4,5,8]\n",
    "def my_merge(a,b):\n",
    "        na=len(a)\n",
    "        nb=len(b)\n",
    "        ida=0\n",
    "        idb=0\n",
    "        c=[]\n",
    "        while (ida<na and idb<nb):\n",
    "            if a[ida]<=b[idb]:\n",
    "                c.append(a[ida])\n",
    "                ida+=1\n",
    "            else:\n",
    "                c.append(b[idb])\n",
    "                idb+=1\n",
    "        while (idb<nb):\n",
    "            c.append(b[idb])\n",
    "            idb+=1\n",
    "        while (ida<na):\n",
    "            c.append(a[ida])\n",
    "            ida+=1\n",
    "        return c\n",
    "    ##递归排序函数\n",
    "def my_merge_sort(the_list):\n",
    "        n=len(the_list)\n",
    "        if n<=1:\n",
    "            return the_list\n",
    "        elif n==2:\n",
    "            if the_list[0]>the_list[1]:\n",
    "                aa=the_list[1]\n",
    "                the_list[1]=the_list[0]\n",
    "                the_list[0]=aa\n",
    "            return the_list\n",
    "        else:\n",
    "            ##递归的精髓\n",
    "            l_list=my_merge_sort(the_list[0:int(n/2)+1])\n",
    "            r_list=my_merge_sort(the_list[int(n/2)+1:n])\n",
    "            return my_merge(l_list,r_list)  \n",
    "        num_list=my_merge_sort(num_list)\n",
    "        return num_list\n",
    "\n",
    "print(my_merge_sort(m))"
   ]
  },
  {
   "cell_type": "code",
   "execution_count": null,
   "metadata": {},
   "outputs": [],
   "source": []
  }
 ],
 "metadata": {
  "kernelspec": {
   "display_name": "Python 3",
   "language": "python",
   "name": "python3"
  },
  "language_info": {
   "codemirror_mode": {
    "name": "ipython",
    "version": 3
   },
   "file_extension": ".py",
   "mimetype": "text/x-python",
   "name": "python",
   "nbconvert_exporter": "python",
   "pygments_lexer": "ipython3",
   "version": "3.8.6rc1"
  }
 },
 "nbformat": 4,
 "nbformat_minor": 2
}
