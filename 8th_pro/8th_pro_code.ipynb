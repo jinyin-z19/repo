{
 "cells": [
  {
   "cell_type": "code",
   "execution_count": 2,
   "metadata": {},
   "outputs": [
    {
     "name": "stdout",
     "output_type": "stream",
     "text": [
      "   2019 2017 2018\n",
      "姓名   帅周   杨哥   王酷\n",
      "分数    4  3.9  3.9\n",
      "[2.12078996e-04 5.76490482e-04 1.56706360e-03 4.25972051e-03\n",
      " 1.15791209e-02 3.14753138e-02 8.55587737e-02 2.32572860e-01\n",
      " 6.32198578e-01]\n"
     ]
    },
    {
     "data": {
      "text/plain": [
       "0.10536051565782628"
      ]
     },
     "execution_count": 2,
     "metadata": {},
     "output_type": "execute_result"
    }
   ],
   "source": [
    "import numpy as np\n",
    "import pandas as pd\n",
    "s = pd.Series(np.random.randn(5),index=['a','b','c','d','e'])\n",
    "s\n",
    "d = {'姓名' : pd.Series(['帅周','杨哥','王酷'],index=['2019','2017','2018']),\n",
    "     '分数' : pd.Series([4.,3.9,3.9],index=['2019','2017','2018'])} #后面index是索引，接下来会将两个列合并\n",
    "\n",
    "df = pd.DataFrame(d)\n",
    "df.loc['2019']  ##按编号查询\n",
    "df.iloc[0]  ## 按顺序查询\n",
    "\n",
    "#转置表格\n",
    "df=df.T\n",
    "print(df)\n",
    "# 表格输入输出\n",
    "df.to_csv('foo.csv')\n",
    "pd.read_csv('foo.csv')\n",
    "\n",
    "\n",
    "def softmax(a):\n",
    "    b=a\n",
    "    return np.exp(b)/np.exp(a).sum()\n",
    "b=softmax(([1,2,3,4,5,6,7,8,9]))\n",
    "print(b)\n",
    "\n",
    "def MSE(a):   ## 均方误差\n",
    "    return np.sum((a-np.mean(a))**2)/len(a)\n",
    "\n",
    "c=np.array([1,1,1,1,1,1,1,1,1])\n",
    "MSE(c)\n",
    "\n",
    "def CE(a,b):  ##交叉熵\n",
    "    return np.sum(-a*np.log(b))\n",
    "mm=np.array([1,0])\n",
    "nn=np.array([0.9,0.1])\n",
    "\n",
    "CE(mm,nn)"
   ]
  },
  {
   "cell_type": "code",
   "execution_count": null,
   "metadata": {},
   "outputs": [],
   "source": []
  }
 ],
 "metadata": {
  "kernelspec": {
   "display_name": "Python 3",
   "language": "python",
   "name": "python3"
  },
  "language_info": {
   "codemirror_mode": {
    "name": "ipython",
    "version": 3
   },
   "file_extension": ".py",
   "mimetype": "text/x-python",
   "name": "python",
   "nbconvert_exporter": "python",
   "pygments_lexer": "ipython3",
   "version": "3.8.6rc1"
  }
 },
 "nbformat": 4,
 "nbformat_minor": 2
}
