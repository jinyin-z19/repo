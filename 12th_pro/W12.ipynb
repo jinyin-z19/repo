{
 "cells": [
  {
   "cell_type": "code",
   "execution_count": 1,
   "metadata": {},
   "outputs": [
    {
     "name": "stdout",
     "output_type": "stream",
     "text": [
      "[[20, 20, 20], [40, 40, 40]]\n"
     ]
    }
   ],
   "source": [
    "# 卷积和尝试\n",
    "a=[[2,2,2,2],[4,4,4,4],[8,8,8,8]]\n",
    "knel=[[1,1],[2,2]]\n",
    "def padding(a,b,m,n):\n",
    "    the_sum=b[0][0]*a[m][n]+b[1][0]*a[m+1][n]+b[0][1]*a[m][n+1]+b[1][1]*a[m+1][n+1]\n",
    "    return the_sum\n",
    "b = [[0 for i in range(3)] for j in range(2)]\n",
    "for m in range(2):\n",
    "    for n in  range(3):\n",
    "        b[m][n]=padding(a,knel,m,n)\n",
    "print(b)"
   ]
  },
  {
   "cell_type": "code",
   "execution_count": null,
   "metadata": {},
   "outputs": [],
   "source": []
  }
 ],
 "metadata": {
  "kernelspec": {
   "display_name": "Python 3",
   "language": "python",
   "name": "python3"
  },
  "language_info": {
   "codemirror_mode": {
    "name": "ipython",
    "version": 3
   },
   "file_extension": ".py",
   "mimetype": "text/x-python",
   "name": "python",
   "nbconvert_exporter": "python",
   "pygments_lexer": "ipython3",
   "version": "3.8.6rc1"
  }
 },
 "nbformat": 4,
 "nbformat_minor": 2
}
