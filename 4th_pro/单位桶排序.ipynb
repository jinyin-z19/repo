{
 "cells": [
  {
   "cell_type": "code",
   "execution_count": 1,
   "metadata": {},
   "outputs": [],
   "source": [
    "##桶排序\n",
    "def bucket_sort(A, min_value, max_value):\n",
    "    buckets = [[] for _ in range(min_value, max_value+1)]\n",
    "    for x in A:\n",
    "        # implement it by yourself (将数放到对应的桶里)\n",
    "        buckets[x].append(x)\n",
    "    sorted_arr = []\n",
    "    for bucket in buckets:\n",
    "        # implement it by yourself (按顺序合并所有的桶)\n",
    "        sorted_arr=sorted_arr+bucket\n",
    "    return sorted_arr\n",
    "arr = [5,1,2,7,3,9,4,0,6,8]\n",
    "sorted_arr = bucket_sort(arr, 0, 9)\n",
    "print(sorted_arr)"
   ]
  }
 ],
 "metadata": {
  "kernelspec": {
   "display_name": "Python 3",
   "language": "python",
   "name": "python3"
  },
  "language_info": {
   "codemirror_mode": {
    "name": "ipython",
    "version": 3
   },
   "file_extension": ".py",
   "mimetype": "text/x-python",
   "name": "python",
   "nbconvert_exporter": "python",
   "pygments_lexer": "ipython3",
   "version": "3.8.6rc1"
  }
 },
 "nbformat": 4,
 "nbformat_minor": 2
}
