{
 "cells": [
  {
   "cell_type": "code",
   "execution_count": 1,
   "metadata": {},
   "outputs": [],
   "source": [
    "#快排算法\n",
    "import random\n",
    "def quick_sort(my_list):\n",
    "    if len(my_list)<=1:\n",
    "        return my_list\n",
    "    l=[]\n",
    "    r=[]\n",
    "    p=0\n",
    "    e=[my_list[p]]\n",
    "    for i in range(len(my_list)):\n",
    "        if i==p:\n",
    "            continue\n",
    "        if my_list[i]<my_list[p]:\n",
    "            l.append(my_list[i])\n",
    "        else:\n",
    "            r.append(my_list[i])\n",
    "    ##这个就很骚，直接合并！！\n",
    "    return quick_sort(l)+e+quick_sort(r)\n",
    "a=[1,2,3,4,5,9,8,11]\n",
    "print(quick_sort(a))"
   ]
  }
 ],
 "metadata": {
  "kernelspec": {
   "display_name": "Python 3",
   "language": "python",
   "name": "python3"
  },
  "language_info": {
   "codemirror_mode": {
    "name": "ipython",
    "version": 3
   },
   "file_extension": ".py",
   "mimetype": "text/x-python",
   "name": "python",
   "nbconvert_exporter": "python",
   "pygments_lexer": "ipython3",
   "version": "3.8.6rc1"
  }
 },
 "nbformat": 4,
 "nbformat_minor": 2
}
