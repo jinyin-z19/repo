{
 "cells": [
  {
   "cell_type": "code",
   "execution_count": 1,
   "metadata": {},
   "outputs": [],
   "source": [
    "##大型桶排序\n",
    "def getDigits(x, base):\n",
    "    digits = []\n",
    "    while x > 0:\n",
    "        digits.append( x % base )\n",
    "        x = (x / base).__trunc__()\n",
    "    return digits\n",
    "        \n",
    "\n",
    "class myInt:\n",
    "    def __init__(self,x, base=10, keyDigit=0):\n",
    "        self.digits = getDigits(x, base)\n",
    "        self.keyDigit = keyDigit\n",
    "        self.value = x\n",
    "        \n",
    "    def key(self):\n",
    "        if len(self.digits) > self.keyDigit:\n",
    "            return self.digits[self.keyDigit]\n",
    "        return 0\n",
    "    \n",
    "    def updateKeyDigit(self,p):\n",
    "        self.keyDigit = p\n",
    "        \n",
    "    def getValue(self):\n",
    "        return self.value\n",
    "\n",
    "def bucketSortBase(A, base):\n",
    "    buckets = [[] for _ in range(base)]\n",
    "    for x in A:\n",
    "        # implement it by yourself (根据指定位置放进对应的桶里)\n",
    "        ## 这里直接调用,因为传入的就是这种元素！！\n",
    "        buckets[x.key()].append(x)\n",
    "    sorted_arr = []\n",
    "    for bucket in buckets:\n",
    "        # implement it by yourself (按照顺序合并所有的桶)\n",
    "        sorted_arr=sorted_arr+bucket\n",
    "    return sorted_arr\n",
    "\n",
    "def radix_sort(A, n_digits, base):\n",
    "    ##对每一个A列表的数进行操作\n",
    "    B = [ myInt(x, base=base) for x in A ]\n",
    "    for j in range(n_digits):\n",
    "        for x in B:\n",
    "            # implement it by yourself (指定比较的位置)\n",
    "            # 开始修改位数了\n",
    "            x.updateKeyDigit(j)\n",
    "        # implement it by yourself (桶排序)\n",
    "        #在更新后的位数进行对比\n",
    "        B = bucketSortBase(B, base)\n",
    "    B = [x.getValue() for x in B]\n",
    "    return B\n",
    "\n",
    "arr = [523,123,4,33,12]\n",
    "sorted_arr = radix_sort(arr, 3, 10)\n",
    "print(sorted_arr)"
   ]
  }
 ],
 "metadata": {
  "kernelspec": {
   "display_name": "Python 3",
   "language": "python",
   "name": "python3"
  },
  "language_info": {
   "codemirror_mode": {
    "name": "ipython",
    "version": 3
   },
   "file_extension": ".py",
   "mimetype": "text/x-python",
   "name": "python",
   "nbconvert_exporter": "python",
   "pygments_lexer": "ipython3",
   "version": "3.8.6rc1"
  }
 },
 "nbformat": 4,
 "nbformat_minor": 2
}
