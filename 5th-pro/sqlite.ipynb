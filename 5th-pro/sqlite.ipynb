{
 "cells": [
  {
   "cell_type": "code",
   "execution_count": 1,
   "metadata": {
    "scrolled": true
   },
   "outputs": [
    {
     "name": "stdout",
     "output_type": "stream",
     "text": [
      "[(1, '周金印', '男', 18), (2, '杨冉', '男', 19), (3, '王之昂', '男', 17)]\n"
     ]
    }
   ],
   "source": [
    "## 数据库创建与插入\n",
    "import sqlite3\n",
    "db = sqlite3.connect(\"university.db\")\n",
    "cursor=db.cursor()\n",
    "cursor.execute(\"\"\"CREATE TABLE IF NOT EXISTS students\n",
    "(id integer PRIMARY KEY, name text NOT NULL, gender text NOT NULL, age ineger NOT NULL);\"\"\")\n",
    "cursor.execute(\"\"\"INSERT INTO students(id, name, gender, age) \n",
    "VALUES(1, '周金印', '男', 18)\"\"\")\n",
    "cursor.execute(\"\"\"INSERT INTO students(id, name, gender, age) \n",
    "VALUES(2, '杨冉', '男', 19)\"\"\")\n",
    "cursor.execute(\"\"\"INSERT INTO students(id, name, gender, age) \n",
    "VALUES(3, '王之昂', '男', 17)\"\"\")\n",
    "db.commit()\n",
    "cursor.execute(\"SELECT * FROM students\")\n",
    "print(cursor.fetchall())\n",
    "db.close()"
   ]
  },
  {
   "cell_type": "code",
   "execution_count": 2,
   "metadata": {},
   "outputs": [
    {
     "name": "stdout",
     "output_type": "stream",
     "text": [
      "[(101, '微积分', '李铁民'), (103, '大学物理', '安宇'), (202, '线性代数', '徐帆')]\n"
     ]
    }
   ],
   "source": [
    "## 数据库创建与插入(以文件多个表格)\n",
    "import sqlite3\n",
    "db = sqlite3.connect(\"university.db\")\n",
    "cursor=db.cursor()\n",
    "cursor.execute(\"\"\"CREATE TABLE IF NOT EXISTS class  \n",
    "(id integer PRIMARY KEY, name text NOT NULL, teacher text NOT NULL);\"\"\")##每个db文件有多个表table。\n",
    "cursor.execute(\"\"\"INSERT INTO class(id, name,teacher) \n",
    "VALUES(101, '微积分', '李铁民')\"\"\")\n",
    "cursor.execute(\"\"\"INSERT INTO class(id, name,teacher) \n",
    "VALUES(202, '线性代数', '徐帆')\"\"\")\n",
    "cursor.execute(\"\"\"INSERT INTO class(id, name,teacher) \n",
    "VALUES(103, '大学物理', '安宇')\"\"\")\n",
    "db.commit()## 保存数据\n",
    "cursor.execute(\"SELECT * FROM class\")\n",
    "print(cursor.fetchall())\n",
    "db.close()"
   ]
  },
  {
   "cell_type": "code",
   "execution_count": 3,
   "metadata": {},
   "outputs": [],
   "source": [
    "##操作与合并表格\n",
    "import sqlite3\n",
    "db = sqlite3.connect(\"university.db\")\n",
    "cursor=db.cursor()\n",
    "cursor.execute(\"\"\"CREATE TABLE IF NOT EXISTS enrolled\n",
    "(student integer NOT NULL, classes integer NOT NULL, grades integer NOT NULL);\"\"\")\n",
    "cursor.execute(\"\"\"INSERT INTO enrolled(student, classes, grades) \n",
    "VALUES(1, 101, 100)\"\"\")\n",
    "cursor.execute(\"\"\"INSERT INTO enrolled(student, classes, grades) \n",
    "VALUES(2, 202, 90)\"\"\")\n",
    "cursor.execute(\"\"\"INSERT INTO enrolled(student, classes, grades) \n",
    "VALUES(3, 103, 70)\"\"\")\n",
    "db.commit()\n",
    "db.close()"
   ]
  },
  {
   "cell_type": "code",
   "execution_count": 15,
   "metadata": {},
   "outputs": [
    {
     "name": "stdout",
     "output_type": "stream",
     "text": [
      "[(1, '周金印', '微积分', 100), (1, '周金印', '大学物理', None), (1, '周金印', '线性代数', None), (2, '杨冉', '微积分', None), (2, '杨冉', '大学物理', None), (2, '杨冉', '线性代数', 90), (3, '王之昂', '微积分', None), (3, '王之昂', '大学物理', 70), (3, '王之昂', '线性代数', None)]\n"
     ]
    }
   ],
   "source": [
    "#查询 +left join\n",
    "import sqlite3\n",
    "db = sqlite3.connect(\"university.db\")\n",
    "cursor=db.cursor()\n",
    "cursor.execute(\"\"\"SELECT students.id, students.name,class.name, enrolled.grades \n",
    "FROM students,class \n",
    "left JOIN enrolled \n",
    "on students.id =enrolled.student\n",
    "and class.id =enrolled.classes\"\"\")\n",
    "print(cursor.fetchall())\n",
    "db.close()"
   ]
  },
  {
   "cell_type": "code",
   "execution_count": null,
   "metadata": {},
   "outputs": [],
   "source": []
  }
 ],
 "metadata": {
  "kernelspec": {
   "display_name": "Python 3",
   "language": "python",
   "name": "python3"
  },
  "language_info": {
   "codemirror_mode": {
    "name": "ipython",
    "version": 3
   },
   "file_extension": ".py",
   "mimetype": "text/x-python",
   "name": "python",
   "nbconvert_exporter": "python",
   "pygments_lexer": "ipython3",
   "version": "3.8.6rc1"
  }
 },
 "nbformat": 4,
 "nbformat_minor": 2
}
